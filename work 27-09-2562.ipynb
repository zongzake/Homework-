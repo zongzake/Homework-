{
 "cells": [
  {
   "cell_type": "code",
   "execution_count": 2,
   "metadata": {},
   "outputs": [
    {
     "name": "stdout",
     "output_type": "stream",
     "text": [
      "Enter A in range 15-60 :   50\n",
      "Enter B in range 2-15 :   2\n",
      "16   18   20   22   24   26   28   30   32   34   36   38   40   42   44   46   48   50   "
     ]
    }
   ],
   "source": [
    "#ข้อที่ 1 ให้นักศึกษากำหนดค่าตัวเลขมา 1 จำนวน ตั้งแต่ 15-60 เป็นตัวแปร A จากนั้นให้เลือกตัวเลขตั้งแต่ 2-15 มา 1 จำนวน เป็นตัวแปร B แล้วให้หาว่า ตัวแปร B สามารถหารจำนวนในช่วงที่ 15-A ใดแล้วมีเศษเป็น 0 บ้าง จงแสดงจำนวนทั้งหมดนั้น\n",
    "\n",
    "A = int(input(\"Enter A in range 15-60 :   \"))\n",
    "B = int(input(\"Enter B in range 2-15 :   \"))\n",
    "for C in range(15,A+1):\n",
    "    if C%B == 0:\n",
    "        print(C,end='   ')"
   ]
  },
  {
   "cell_type": "code",
   "execution_count": 5,
   "metadata": {},
   "outputs": [
    {
     "name": "stdout",
     "output_type": "stream",
     "text": [
      "Count: 100\n",
      "Answer is  2450\n"
     ]
    }
   ],
   "source": [
    "#ข้อที่ 2 กำหนดข้อมูลมา 1 จำนวน และจงคำนวณหาผลรวมของจำนวนเต็มบวกทุกจำนวนที่มี 2 4 6 และ 8 เป็นตัวประกอบ และมีค่าน้อยกว่าข้อมูลที่กำหนด\n",
    "\n",
    "nums = [2, 4, 6, 8]\n",
    "max = int(input(\"Count: \"))\n",
    "result = 0\n",
    "for x in range(0,max):\n",
    "    if x%2 == 0 or x%4 == 0 or x%6 == 0 or x%8 == 0:\n",
    "        result += x\n",
    "print(\"Answer is \",result)\n"
   ]
  },
  {
   "cell_type": "code",
   "execution_count": 6,
   "metadata": {},
   "outputs": [
    {
     "name": "stdout",
     "output_type": "stream",
     "text": [
      "temp ํC :122\n",
      "temp ํF =  251.6       temp ํK =  395.15\n"
     ]
    }
   ],
   "source": [
    "#ข้อที่ 3 จงแปลงอุณภูมิจากองศาเซลเซียสเป็นองศาฟาเรนไฮ และจากองศาเซลเซียสเป็นองศาเคลวิน\n",
    "\n",
    "temperature = float(input(\"temp ํC :\" ))\n",
    "temperature_convert_ํC_to_ํF = (9/5*temperature)+32\n",
    "temperature_convert_ํC_to_ํK = (temperature + 273.15)\n",
    "print(\"temp ํF = \", temperature_convert_ํC_to_ํF,\"      \" \"temp ํK = \" ,temperature_convert_ํC_to_ํK)"
   ]
  },
  {
   "cell_type": "code",
   "execution_count": 7,
   "metadata": {},
   "outputs": [
    {
     "name": "stdout",
     "output_type": "stream",
     "text": [
      "T: 12\n",
      "W: 5\n",
      "F: 4\n",
      "8 day(s).\n"
     ]
    }
   ],
   "source": [
    "#ข้อที่ 4 หนอนตัวหนึ่ง พยายามปีนต้นไม้ที่มีความสูง T เมตร หนอนพยายามจะไต่ให้ถึงยอดต้นไม้ ในเวลากลางวันหนอนไต่ขึ้นไปได้ W เมตร เวลากลางคืนหนอนนอนหลับจึงไม่ได้ไต่แต่กลับไถลลงมาเป็นระยะทาง F เมตร จงหาว่าหนอนจะใช้เวลากี่วันในการไต่ไปถึงยอดไม้ (กำหนดให้หนอนทากเริ่มไต่ในเวลากลางวัน)\n",
    "T = int(input(\"T: \")) \n",
    "W = int(input(\"W: \")) \n",
    "F = int(input(\"F: \")) \n",
    "s = 0 \n",
    "day = 1 \n",
    "while True:    \n",
    "    s = s+W    \n",
    "    if s>=T:       \n",
    "        break    \n",
    "    s = s-F    \n",
    "    day = day+1 \n",
    "print(day,\"day(s).\")"
   ]
  },
  {
   "cell_type": "code",
   "execution_count": 8,
   "metadata": {},
   "outputs": [
    {
     "name": "stdout",
     "output_type": "stream",
     "text": [
      "n1 :5\n",
      "n2 :8\n",
      "n3 :6\n",
      "n4 :4\n",
      "n5 :3\n",
      "n6 :8\n",
      "n7 :7\n",
      "n8 :9\n",
      "n9 :2\n",
      "586438792\n",
      "5864387924\n"
     ]
    }
   ],
   "source": [
    "#ข้อที่ 5 จงทำการตรวจสอบความถูกต้องของ ISBN จะใช้ตัวเลขหลักสุดท้ายเป็น check digit ในการตรวจสอบความถูกต้องของตัวเลขอื่น ๆ โดยวิธีที่ใช้ตรวจสอบคือ10n1+ 9n2+ 8n3+ 7n4+ 6n5+ 5n6+ 4n7+ 3n8+ 2n9+ n10 จะต้องหารด้วย 11 ลงตัวหากกำหนดตัวเลขหลักที่ 1-9 มาให้ จงคำนวณหา ISBN ทั้งสิบหลัก\n",
    "n1 = int(input(\"n1 :\"))\n",
    "n2 = int(input(\"n2 :\"))\n",
    "n3 = int(input(\"n3 :\"))\n",
    "n4 = int(input(\"n4 :\"))\n",
    "n5 = int(input(\"n5 :\"))\n",
    "n6 = int(input(\"n6 :\"))\n",
    "n7 = int(input(\"n7 :\"))\n",
    "n8 = int(input(\"n8 :\"))\n",
    "n9 = int(input(\"n9 :\"))\n",
    "print(str(n1) + str(n2) + str(n3) + str(n4) + str(n5) + str(n6) + str(n7) + str(n8) + str(n9))\n",
    "ISBN1to9 = ((10 * n1) + (9 * n2) + (8 * n3) + (7 * n4) + (6 * n5) + (5 * n6) + (4 * n7) + (3 * n8) + (2 * n9))\n",
    "if (ISBN1to9 + 1) % 11 == 0:\n",
    "    print(str(n1) + str(n2) + str(n3) + str(n4) + str(n5) + str(n6) + str(n7) + str(n8) + str(n9) + \"1\")\n",
    "elif (ISBN1to9 + 2) % 11 == 0:\n",
    "    print(str(n1) + str(n2) + str(n3) + str(n4) + str(n5) + str(n6) + str(n7) + str(n8) + str(n9) + \"2\")\n",
    "elif (ISBN1to9 + 3) % 11 == 0:\n",
    "    print(str(n1) + str(n2) + str(n3) + str(n4) + str(n5) + str(n6) + str(n7) + str(n8) + str(n9) + \"3\")\n",
    "elif (ISBN1to9 + 4) % 11 == 0:\n",
    "    print(str(n1) + str(n2) + str(n3) + str(n4) + str(n5) + str(n6) + str(n7) + str(n8) + str(n9) + \"4\")\n",
    "elif (ISBN1to9 + 5) % 11 == 0:\n",
    "    print(str(n1) + str(n2) + str(n3) + str(n4) + str(n5) + str(n6) + str(n7) + str(n8) + str(n9) + \"5\")\n",
    "elif (ISBN1to9 + 6) % 11 == 0:\n",
    "    print(str(n1) + str(n2) + str(n3) + str(n4) + str(n5) + str(n6) + str(n7) + str(n8) + str(n9) + \"6\")\n",
    "elif (ISBN1to9 + 7) % 11 == 0:\n",
    "    print(str(n1) + str(n2) + str(n3) + str(n4) + str(n5) + str(n6) + str(n7) + str(n8) + str(n9) + \"7\")\n",
    "elif (ISBN1to9 + 8) % 11 == 0:\n",
    "    print(str(n1) + str(n2) + str(n3) + str(n4) + str(n5) + str(n6) + str(n7) + str(n8) + str(n9) + \"8\")\n",
    "elif (ISBN1to9 + 9) % 11 == 0:\n",
    "    print(str(n1) + str(n2) + str(n3) + str(n4) + str(n5) + str(n6) + str(n7) + str(n8) + str(n9) + \"9\")\n",
    "else:\n",
    "    print(\"ERROR\")"
   ]
  },
  {
   "cell_type": "code",
   "execution_count": 9,
   "metadata": {},
   "outputs": [
    {
     "name": "stdout",
     "output_type": "stream",
     "text": [
      "enter number54656.46479\n",
      "enter number5645.48756\n",
      "enter number5643.584\n",
      "enter number-1\n",
      "21981.845449999997\n"
     ]
    }
   ],
   "source": [
    "#ข้อที่ 6 ให้กำหนดข้อมูลใดก็ได้ที่เป็นจำนวนจริงจนกว่าจะพบค่า -1 เพื่อหาค่าเฉลี่ยของจำนวนเหล่านั้นทั้งหมด (ไม่รวม -1)\n",
    "\n",
    "sum = 0\n",
    "count = 0\n",
    "n = float(input(\"enter number\"))\n",
    "while n != -1:\n",
    "    sum += n\n",
    "    count = count + 1\n",
    "    n = float(input(\"enter number\"))\n",
    "avg = sum / count\n",
    "print(avg)"
   ]
  },
  {
   "cell_type": "code",
   "execution_count": 10,
   "metadata": {},
   "outputs": [
    {
     "name": "stdout",
     "output_type": "stream",
     "text": [
      "A SIDE LENGTH : 5\n",
      "B SIDE LENGTH :6\n",
      "CORNER C :80\n",
      "c =  7.112039745388391 cm.\n"
     ]
    }
   ],
   "source": [
    "#ข้อที่ 7 จงเขียนคำนวณหาความยาวของด้านที่สามของสามเหลี่ยม เมื่อเราทราบความยาวด้านสองด้าน (a กับ b)และมุมระหว่างด้านสองด้านนั้น (C) ซึ่งคำนวณได้จาก Law of Cosines\n",
    "\n",
    "import math\n",
    "A=float(input(\"A SIDE LENGTH : \"))\n",
    "B=float(input(\"B SIDE LENGTH :\"))\n",
    "D=float(input(\"CORNER C :\"))\n",
    "C=D*math.pi/180\n",
    "c=math.sqrt((A**2)+(B**2)-(2*A*B*math.cos(C)))\n",
    "print(\"c = \",c, \"cm.\")\n"
   ]
  },
  {
   "cell_type": "code",
   "execution_count": 12,
   "metadata": {},
   "outputs": [
    {
     "name": "stdout",
     "output_type": "stream",
     "text": [
      "score:77\n",
      "B+\n"
     ]
    }
   ],
   "source": [
    "#ข้อที่ 8 ให้ทำการกำหนดคะแนนเพื่อตัดเกรดตามเกณฑ์ที่ระบุ โดย 100-80=A  79-75=B+  74-70=B  69-65=C+  64-60=C  59-55=D+  54-50=D >50=F โดยในกรณีที่คะแนนมีข้อผิดพลาด ให้แสดงผลว่า ERROR\n",
    "x = int(input(\"score:\"))\n",
    "if 100>=x>=80:\n",
    "    print(\"A\")\n",
    "elif 80>x>=75:\n",
    "    print(\"B+\")\n",
    "elif 75>x>=70:\n",
    "    print(\"B\")\n",
    "elif 70>x>=65:\n",
    "    print(\"C+\")\n",
    "elif 65>x>=60:\n",
    "    print(\"C\")\n",
    "elif 60>x>=55:\n",
    "    print(\"D+\")\n",
    "elif 55>x>=50:\n",
    "    print(\"D\")\n",
    "elif 50>x:\n",
    "    print(\"F\")\n",
    "else:\n",
    "    print(\"error\")"
   ]
  },
  {
   "cell_type": "code",
   "execution_count": 11,
   "metadata": {},
   "outputs": [
    {
     "name": "stdout",
     "output_type": "stream",
     "text": [
      "How many table: 8\n",
      "How much: 19000\n",
      "You have to pay 15200 bath.\n"
     ]
    }
   ],
   "source": [
    "#ข้อที่ 9 ร้านขายโต๊ะร้านหนึ่ง พยายามเพิ่มยอดขายโดยการเสนอโปรโมชั่นพิเศษ ถ้าคุณซื้อโต๊ะมากกว่า 5 ตัว ที่มีมูลค่ารวมเกิน 18000 บาท คุณจะได้ส่วนลด 20%   ให้คำนวณจำนวนโต๊ะที่ซื้อและราคารวม จากนั้นคำนวณราคาที่ต้องจ่าย\n",
    "Count = int(input(\"How many table: \")) \n",
    "money = int(input(\"How much: \")) \n",
    "if Count > 5 and money > 18000:    \n",
    "    s = money-money*0.2 \n",
    "else:    \n",
    "    s = money \n",
    "print(\"You have to pay\",int(s),\"bath.\")"
   ]
  },
  {
   "cell_type": "code",
   "execution_count": 13,
   "metadata": {},
   "outputs": [
    {
     "name": "stdout",
     "output_type": "stream",
     "text": [
      "R1 = 250 Ohm.\n",
      "\n",
      "R2 = 870 Ohm.\n",
      "\n",
      "RT = (R1 x R2)/(R1 + R2)\n",
      "\n",
      "RT =  194.19642857142858 Ohm.\n"
     ]
    }
   ],
   "source": [
    "#ข้อที่ 10 จงคำนวณหาค่าโอห์มรวมของวงจรแบบขนาน ตามสูตร RT = (R1 x R2)/(R1 + R2) โดยกำหนดให้ R1 = 250 Ohm. และ R2 = 870 Ohm.\n",
    "\n",
    "print(\"R1 = 250 Ohm.\")\n",
    "print(\"\")\n",
    "print(\"R2 = 870 Ohm.\")\n",
    "print(\"\")\n",
    "print(\"RT = (R1 x R2)/(R1 + R2)\")\n",
    "print(\"\")\n",
    "print(\"RT = \" ,(250*870)/(250+870),\"Ohm.\")\n"
   ]
  },
  {
   "cell_type": "code",
   "execution_count": null,
   "metadata": {},
   "outputs": [],
   "source": []
  }
 ],
 "metadata": {
  "kernelspec": {
   "display_name": "Python 3",
   "language": "python",
   "name": "python3"
  },
  "language_info": {
   "codemirror_mode": {
    "name": "ipython",
    "version": 3
   },
   "file_extension": ".py",
   "mimetype": "text/x-python",
   "name": "python",
   "nbconvert_exporter": "python",
   "pygments_lexer": "ipython3",
   "version": "3.7.3"
  }
 },
 "nbformat": 4,
 "nbformat_minor": 2
}
